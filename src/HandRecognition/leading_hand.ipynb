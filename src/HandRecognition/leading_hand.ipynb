{
 "cells": [
  {
   "attachments": {},
   "cell_type": "markdown",
   "metadata": {},
   "source": [
    "# Model: Leading Hand\n",
    "\n",
    "_Bastien Leduc - A20520860_\\\n",
    "_Paul Legout - A20522029_"
   ]
  },
  {
   "cell_type": "code",
   "execution_count": 1,
   "metadata": {},
   "outputs": [],
   "source": [
    "import numpy as np\n",
    "import pandas as pd\n",
    "from sklearn.preprocessing import OneHotEncoder\n",
    "from sklearn import preprocessing\n",
    "import matplotlib.pyplot as plt\n",
    "\n",
    "import tensorflow as tf\n",
    "from keras import models, layers\n",
    "\n",
    "import preprocessing\n",
    "from resources import *\n",
    "\n",
    "from sklearn.utils import shuffle"
   ]
  },
  {
   "cell_type": "code",
   "execution_count": 139,
   "metadata": {
    "notebookRunGroups": {
     "groupValue": "1"
    }
   },
   "outputs": [],
   "source": [
    "import importlib\n",
    "import resources\n",
    "\n",
    "importlib.reload(preprocessing)\n",
    "importlib.reload(resources)\n",
    "\n",
    "from resources import *"
   ]
  },
  {
   "attachments": {},
   "cell_type": "markdown",
   "metadata": {},
   "source": [
    "Some useful paths"
   ]
  },
  {
   "cell_type": "code",
   "execution_count": 2,
   "metadata": {},
   "outputs": [],
   "source": [
    "DIR_DATA = \"../../data\"\n",
    "DIR_ANNOTATIONS = DIR_DATA + \"/annotations\"\n",
    "DIR_IMAGES = DIR_DATA + \"/.data\""
   ]
  },
  {
   "attachments": {},
   "cell_type": "markdown",
   "metadata": {},
   "source": [
    "### Load data"
   ]
  },
  {
   "cell_type": "code",
   "execution_count": 19,
   "metadata": {},
   "outputs": [],
   "source": [
    "# Load data, without bbox coordinates (just landmarks)\n",
    "x, y, num_landmarks, labels = preprocessing.load_data_leading_hand(DIR_ANNOTATIONS, bbox=False)"
   ]
  },
  {
   "cell_type": "code",
   "execution_count": 20,
   "metadata": {},
   "outputs": [
    {
     "data": {
      "text/plain": [
       "(97679, 2, 21, 2)"
      ]
     },
     "execution_count": 20,
     "metadata": {},
     "output_type": "execute_result"
    }
   ],
   "source": [
    "x.shape"
   ]
  },
  {
   "cell_type": "code",
   "execution_count": 21,
   "metadata": {},
   "outputs": [
    {
     "data": {
      "text/plain": [
       "(97679,)"
      ]
     },
     "execution_count": 21,
     "metadata": {},
     "output_type": "execute_result"
    }
   ],
   "source": [
    "y.shape"
   ]
  },
  {
   "cell_type": "code",
   "execution_count": 23,
   "metadata": {},
   "outputs": [
    {
     "data": {
      "text/plain": [
       "97679"
      ]
     },
     "execution_count": 23,
     "metadata": {},
     "output_type": "execute_result"
    }
   ],
   "source": [
    "# Total number of elements\n",
    "dataset_size = len(x)\n",
    "dataset_size"
   ]
  },
  {
   "cell_type": "code",
   "execution_count": 24,
   "metadata": {},
   "outputs": [
    {
     "data": {
      "text/plain": [
       "array([[[0.49253976, 0.6164478 ],\n",
       "        [0.5075015 , 0.60568154],\n",
       "        [0.51428396, 0.59451365],\n",
       "        [0.51981753, 0.58536285],\n",
       "        [0.5246562 , 0.57598394],\n",
       "        [0.5018819 , 0.56990045],\n",
       "        [0.50551075, 0.5513342 ],\n",
       "        [0.50844836, 0.53738666],\n",
       "        [0.51040715, 0.5263778 ],\n",
       "        [0.4979835 , 0.5718403 ],\n",
       "        [0.5186588 , 0.57074344],\n",
       "        [0.5208185 , 0.58447397],\n",
       "        [0.5176202 , 0.5925036 ],\n",
       "        [0.4972705 , 0.57872075],\n",
       "        [0.51737094, 0.5835499 ],\n",
       "        [0.5164584 , 0.5959697 ],\n",
       "        [0.51179135, 0.60170007],\n",
       "        [0.4985609 , 0.58753085],\n",
       "        [0.5138324 , 0.5936988 ],\n",
       "        [0.51293314, 0.60267437],\n",
       "        [0.50879943, 0.60653037]],\n",
       "\n",
       "       [[0.60659814, 0.8935939 ],\n",
       "        [0.5972008 , 0.90248305],\n",
       "        [0.59255075, 0.9196457 ],\n",
       "        [0.5900378 , 0.9348583 ],\n",
       "        [0.5900358 , 0.9473183 ],\n",
       "        [0.60183   , 0.9335918 ],\n",
       "        [0.5940615 , 0.9522593 ],\n",
       "        [0.58669835, 0.9605895 ],\n",
       "        [0.58055776, 0.96547544],\n",
       "        [0.60583776, 0.93420523],\n",
       "        [0.596441  , 0.95074856],\n",
       "        [0.5883204 , 0.9571121 ],\n",
       "        [0.58140755, 0.9605002 ],\n",
       "        [0.6068553 , 0.93323797],\n",
       "        [0.59864205, 0.94884837],\n",
       "        [0.5911155 , 0.95564246],\n",
       "        [0.5847269 , 0.95910865],\n",
       "        [0.60575783, 0.9318422 ],\n",
       "        [0.59923726, 0.9441986 ],\n",
       "        [0.5932176 , 0.9494886 ],\n",
       "        [0.58823293, 0.951804  ]]], dtype=float32)"
      ]
     },
     "execution_count": 24,
     "metadata": {},
     "output_type": "execute_result"
    }
   ],
   "source": [
    "x[0]"
   ]
  },
  {
   "cell_type": "code",
   "execution_count": 25,
   "metadata": {},
   "outputs": [],
   "source": [
    "num_labels = len(labels)"
   ]
  },
  {
   "attachments": {},
   "cell_type": "markdown",
   "metadata": {},
   "source": [
    "### Prepare and split data"
   ]
  },
  {
   "attachments": {},
   "cell_type": "markdown",
   "metadata": {},
   "source": [
    "Available labels"
   ]
  },
  {
   "cell_type": "code",
   "execution_count": 103,
   "metadata": {},
   "outputs": [
    {
     "name": "stdout",
     "output_type": "stream",
     "text": [
      "\u001b[36mleft_hand: \u001b[39m42812 (43.83%)\n",
      "\u001b[36mright_hand: \u001b[39m54867 (56.17%)\n"
     ]
    },
    {
     "data": {
      "image/png": "[encoded data removed]",
      "text/plain": [
       "<Figure size 640x480 with 1 Axes>"
      ]
     },
     "metadata": {},
     "output_type": "display_data"
    }
   ],
   "source": [
    "plot_label_repartition(pd.DataFrame(y), headers=[\"left_hand\", \"right_hand\"])"
   ]
  },
  {
   "attachments": {},
   "cell_type": "markdown",
   "metadata": {},
   "source": [
    "70% training, 10% validation and 20% test"
   ]
  },
  {
   "cell_type": "code",
   "execution_count": 27,
   "metadata": {},
   "outputs": [],
   "source": [
    "train_perc = 0.7\n",
    "test_perc = 0.2\n",
    "val_perc = 0.1\n",
    "\n",
    "\n",
    "x, y = shuffle(x, y)"
   ]
  },
  {
   "cell_type": "code",
   "execution_count": 28,
   "metadata": {},
   "outputs": [],
   "source": [
    "\n",
    "x_train = x[: int(train_perc * dataset_size)]\n",
    "y_train = y[: int(train_perc * dataset_size)]\n",
    "\n",
    "x_test = x[int(train_perc * dataset_size): int((train_perc + test_perc) * dataset_size) ]\n",
    "y_test = y[int(train_perc * dataset_size): int((train_perc + test_perc) * dataset_size) ]\n",
    "\n",
    "x_val = x[int((train_perc + test_perc) * dataset_size): ]\n",
    "y_val = y[int((train_perc + test_perc) * dataset_size): ]"
   ]
  },
  {
   "attachments": {},
   "cell_type": "markdown",
   "metadata": {},
   "source": [
    "### Model"
   ]
  },
  {
   "cell_type": "code",
   "execution_count": 49,
   "metadata": {},
   "outputs": [],
   "source": [
    "def create_model(shape):\n",
    "\tinput_tensor = layers.Input(shape=shape)\n",
    "\n",
    "\t#################### Feature extraction ####################\n",
    "\n",
    "\tx = layers.Conv1D(filters=8, kernel_size=5, strides=1, padding=\"same\")(input_tensor)\n",
    "\tx = layers.BatchNormalization()(x)\n",
    "\tx = layers.Activation(\"relu\")(x)\n",
    "\n",
    "\tx = layers.Conv1D(filters=16, kernel_size=5, strides=1, padding=\"same\")(x)\n",
    "\tx = layers.BatchNormalization()(x)\n",
    "\tx = layers.Activation(\"relu\")(x)\n",
    "\n",
    "\t\n",
    "\t#################### Classification ####################\t\n",
    "\n",
    "\tx = layers.Flatten()(x)\n",
    "\toutput_tensor = layers.Dense(1, activation=\"sigmoid\")(x)\n",
    "\n",
    "\treturn models.Model(inputs=[input_tensor], outputs=[output_tensor])"
   ]
  },
  {
   "cell_type": "code",
   "execution_count": 50,
   "metadata": {},
   "outputs": [
    {
     "name": "stdout",
     "output_type": "stream",
     "text": [
      "Model: \"model_4\"\n",
      "_________________________________________________________________\n",
      " Layer (type)                Output Shape              Param #   \n",
      "=================================================================\n",
      " input_6 (InputLayer)        [(None, 2, 21, 2)]        0         \n",
      "                                                                 \n",
      " conv1d_10 (Conv1D)          (None, 2, 21, 8)          88        \n",
      "                                                                 \n",
      " batch_normalization_10 (Bat  (None, 2, 21, 8)         32        \n",
      " chNormalization)                                                \n",
      "                                                                 \n",
      " activation_10 (Activation)  (None, 2, 21, 8)          0         \n",
      "                                                                 \n",
      " conv1d_11 (Conv1D)          (None, 2, 21, 16)         656       \n",
      "                                                                 \n",
      " batch_normalization_11 (Bat  (None, 2, 21, 16)        64        \n",
      " chNormalization)                                                \n",
      "                                                                 \n",
      " activation_11 (Activation)  (None, 2, 21, 16)         0         \n",
      "                                                                 \n",
      " flatten_4 (Flatten)         (None, 672)               0         \n",
      "                                                                 \n",
      " dense_4 (Dense)             (None, 1)                 673       \n",
      "                                                                 \n",
      "=================================================================\n",
      "Total params: 1,513\n",
      "Trainable params: 1,465\n",
      "Non-trainable params: 48\n",
      "_________________________________________________________________\n"
     ]
    }
   ],
   "source": [
    "model = create_model(shape=x[0].shape)\n",
    "model.summary()"
   ]
  },
  {
   "cell_type": "code",
   "execution_count": null,
   "metadata": {},
   "outputs": [],
   "source": [
    "hist = compile_and_fit(\n",
    "    model,\n",
    "    x_train,\n",
    "    y_train,\n",
    "    validation_data=(x_val, y_val),\n",
    "\tmax_epochs=100,\n",
    "    run_on_gpu=False,\n",
    "    loss_function=tf.keras.losses.BinaryCrossentropy()\n",
    ")\n",
    "\n",
    "save_model(model, \"model_leading_hand\")"
   ]
  },
  {
   "cell_type": "code",
   "execution_count": 52,
   "metadata": {},
   "outputs": [
    {
     "data": {
      "image/png": "[encoded data removed]",
      "text/plain": [
       "<Figure size 1200x300 with 2 Axes>"
      ]
     },
     "metadata": {},
     "output_type": "display_data"
    }
   ],
   "source": [
    "plot(hist)"
   ]
  },
  {
   "cell_type": "code",
   "execution_count": 140,
   "metadata": {},
   "outputs": [
    {
     "name": "stderr",
     "output_type": "stream",
     "text": [
      "2023-04-10 21:28:22.248284: I tensorflow/core/grappler/optimizers/custom_graph_optimizer_registry.cc:113] Plugin optimizer for device_type GPU is enabled.\n",
      "2023-04-10 21:28:23.613487: I tensorflow/core/grappler/optimizers/custom_graph_optimizer_registry.cc:113] Plugin optimizer for device_type GPU is enabled.\n"
     ]
    },
    {
     "name": "stdout",
     "output_type": "stream",
     "text": [
      "\u001b[32mLoss: \u001b[39m0.00718275923281908\n",
      "\u001b[32mAccuracy: \u001b[39m99.857%\n",
      "\u001b[32m\n",
      "Min: \u001b[39m6.071876e-14\n",
      "\u001b[32mMean: \u001b[39m0.562401\n",
      "\u001b[32mMax: \u001b[39m1.0\n"
     ]
    }
   ],
   "source": [
    "predictions_summary(\"model_leading_hand\", x_test, y_test, labels, run_on_gpu=False, short=True)"
   ]
  },
  {
   "attachments": {},
   "cell_type": "markdown",
   "metadata": {},
   "source": [
    "### Average time to make a prediction"
   ]
  },
  {
   "cell_type": "code",
   "execution_count": 141,
   "metadata": {},
   "outputs": [],
   "source": [
    "import time\n",
    "from random import randint"
   ]
  },
  {
   "cell_type": "code",
   "execution_count": 144,
   "metadata": {},
   "outputs": [
    {
     "name": "stderr",
     "output_type": "stream",
     "text": [
      "2023-04-10 21:30:01.665902: I tensorflow/core/grappler/optimizers/custom_graph_optimizer_registry.cc:113] Plugin optimizer for device_type GPU is enabled.\n"
     ]
    },
    {
     "name": "stdout",
     "output_type": "stream",
     "text": [
      "Average time: 0.023 seconds\n"
     ]
    }
   ],
   "source": [
    "num_iters = 2000\n",
    "count = 0\n",
    "\n",
    "for i in range(num_iters):\n",
    "\tindex = randint(0, x_test.shape[0] - 1)\n",
    "\n",
    "\tstart = time.time()\n",
    "\n",
    "\twith tf.device('CPU'):\n",
    "\t\tmodel.predict(np.array([x_test[index]]), verbose=False)\n",
    "\n",
    "\tcount += time.time() - start\n",
    "\n",
    "print(f\"Average time: {round(count / num_iters, 4)} seconds\")"
   ]
  }
 ],
 "metadata": {
  "kernelspec": {
   "display_name": "venv_tensorflow",
   "language": "python",
   "name": "python3"
  },
  "language_info": {
   "codemirror_mode": {
    "name": "ipython",
    "version": 3
   },
   "file_extension": ".py",
   "mimetype": "text/x-python",
   "name": "python",
   "nbconvert_exporter": "python",
   "pygments_lexer": "ipython3",
   "version": "3.10.9"
  },
  "orig_nbformat": 4
 },
 "nbformat": 4,
 "nbformat_minor": 2
}
