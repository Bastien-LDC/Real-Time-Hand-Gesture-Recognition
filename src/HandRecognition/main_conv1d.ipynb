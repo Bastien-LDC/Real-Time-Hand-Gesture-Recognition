{
 "cells": [
  {
   "attachments": {},
   "cell_type": "markdown",
   "metadata": {},
   "source": [
    "# Model 1: Convolution 1D\n",
    "\n",
    "_Bastien Leduc - A20520860_\\\n",
    "_Paul Legout - A20522029_"
   ]
  },
  {
   "cell_type": "code",
   "execution_count": 1,
   "metadata": {},
   "outputs": [],
   "source": [
    "import numpy as np\n",
    "import pandas as pd\n",
    "from sklearn.preprocessing import OneHotEncoder\n",
    "from sklearn import preprocessing\n",
    "import matplotlib.pyplot as plt\n",
    "\n",
    "import tensorflow as tf\n",
    "from keras import models, layers\n",
    "\n",
    "import preprocessing\n",
    "from resources import *\n",
    "\n",
    "from sklearn.utils import shuffle"
   ]
  },
  {
   "attachments": {},
   "cell_type": "markdown",
   "metadata": {},
   "source": [
    "Some useful paths"
   ]
  },
  {
   "cell_type": "code",
   "execution_count": 2,
   "metadata": {},
   "outputs": [],
   "source": [
    "DIR_DATA = \"../../data\"\n",
    "DIR_ANNOTATIONS = DIR_DATA + \"/annotations\"\n",
    "DIR_IMAGES = DIR_DATA + \"/.data\""
   ]
  },
  {
   "attachments": {},
   "cell_type": "markdown",
   "metadata": {},
   "source": [
    "### Load data"
   ]
  },
  {
   "cell_type": "code",
   "execution_count": 3,
   "metadata": {},
   "outputs": [],
   "source": [
    "# Load data, without bbox coordinates (just landmarks)\n",
    "x, y, num_landmarks, labels = preprocessing.load_data(DIR_ANNOTATIONS, bbox=False)"
   ]
  },
  {
   "cell_type": "code",
   "execution_count": 91,
   "metadata": {},
   "outputs": [
    {
     "data": {
      "text/plain": [
       "(498450, 21, 2)"
      ]
     },
     "execution_count": 91,
     "metadata": {},
     "output_type": "execute_result"
    }
   ],
   "source": [
    "x.shape"
   ]
  },
  {
   "cell_type": "code",
   "execution_count": 92,
   "metadata": {},
   "outputs": [
    {
     "data": {
      "text/plain": [
       "(498450,)"
      ]
     },
     "execution_count": 92,
     "metadata": {},
     "output_type": "execute_result"
    }
   ],
   "source": [
    "y.shape"
   ]
  },
  {
   "cell_type": "code",
   "execution_count": 4,
   "metadata": {},
   "outputs": [
    {
     "data": {
      "text/plain": [
       "498450"
      ]
     },
     "execution_count": 4,
     "metadata": {},
     "output_type": "execute_result"
    }
   ],
   "source": [
    "# Total number of elements\n",
    "dataset_size = len(x)\n",
    "dataset_size"
   ]
  },
  {
   "cell_type": "code",
   "execution_count": 69,
   "metadata": {},
   "outputs": [
    {
     "data": {
      "text/plain": [
       "array([[0.48577094, 0.34269387],\n",
       "       [0.5131875 , 0.33229622],\n",
       "       [0.52744323, 0.31933323],\n",
       "       [0.54084665, 0.30919853],\n",
       "       [0.5501136 , 0.29903787],\n",
       "       [0.49674368, 0.29265848],\n",
       "       [0.49717882, 0.27431828],\n",
       "       [0.49990204, 0.25986278],\n",
       "       [0.50098747, 0.2479173 ],\n",
       "       [0.4900852 , 0.29187092],\n",
       "       [0.5300984 , 0.28509277],\n",
       "       [0.5429096 , 0.30041355],\n",
       "       [0.5414515 , 0.31114858],\n",
       "       [0.48896438, 0.29569817],\n",
       "       [0.52976036, 0.2975562 ],\n",
       "       [0.53184247, 0.31377736],\n",
       "       [0.52209437, 0.3217564 ],\n",
       "       [0.49241036, 0.30190116],\n",
       "       [0.52629584, 0.3048785 ],\n",
       "       [0.52651304, 0.31526285],\n",
       "       [0.51605254, 0.32006243]], dtype=float32)"
      ]
     },
     "execution_count": 69,
     "metadata": {},
     "output_type": "execute_result"
    }
   ],
   "source": [
    "x[0]"
   ]
  },
  {
   "cell_type": "code",
   "execution_count": 5,
   "metadata": {},
   "outputs": [],
   "source": [
    "num_labels = len(labels)"
   ]
  },
  {
   "attachments": {},
   "cell_type": "markdown",
   "metadata": {},
   "source": [
    "### Prepare and split data"
   ]
  },
  {
   "attachments": {},
   "cell_type": "markdown",
   "metadata": {},
   "source": [
    "One-hot-encoding"
   ]
  },
  {
   "cell_type": "code",
   "execution_count": 94,
   "metadata": {},
   "outputs": [
    {
     "data": {
      "text/plain": [
       "array(['call', 'dislike', 'fist', 'four', 'like', 'mute', 'no_gesture',\n",
       "       'ok', 'one', 'palm', 'peace', 'peace_inverted', 'rock', 'stop',\n",
       "       'stop_inverted', 'three', 'three2', 'two_up', 'two_up_inverted'],\n",
       "      dtype='<U15')"
      ]
     },
     "execution_count": 94,
     "metadata": {},
     "output_type": "execute_result"
    }
   ],
   "source": [
    "# Available labels\n",
    "labels"
   ]
  },
  {
   "cell_type": "code",
   "execution_count": 6,
   "metadata": {},
   "outputs": [],
   "source": [
    "encoder = OneHotEncoder(sparse_output=False)\n",
    "\n",
    "y = encoder.fit_transform(y.reshape(-1, 1))"
   ]
  },
  {
   "cell_type": "code",
   "execution_count": 96,
   "metadata": {},
   "outputs": [
    {
     "data": {
      "text/plain": [
       "(498450, 19)"
      ]
     },
     "execution_count": 96,
     "metadata": {},
     "output_type": "execute_result"
    }
   ],
   "source": [
    "y.shape"
   ]
  },
  {
   "attachments": {},
   "cell_type": "markdown",
   "metadata": {},
   "source": [
    "70% training, 10% validation and 20% test"
   ]
  },
  {
   "cell_type": "code",
   "execution_count": 7,
   "metadata": {},
   "outputs": [],
   "source": [
    "train_perc = 0.7\n",
    "test_perc = 0.2\n",
    "val_perc = 0.1\n",
    "\n",
    "\n",
    "x, y = shuffle(x, y)"
   ]
  },
  {
   "cell_type": "code",
   "execution_count": 8,
   "metadata": {},
   "outputs": [],
   "source": [
    "\n",
    "x_train = x[: int(train_perc * dataset_size)]\n",
    "y_train = y[: int(train_perc * dataset_size)]\n",
    "\n",
    "x_test = x[int(train_perc * dataset_size): int((train_perc + test_perc) * dataset_size) ]\n",
    "y_test = y[int(train_perc * dataset_size): int((train_perc + test_perc) * dataset_size) ]\n",
    "\n",
    "x_val = x[int((train_perc + test_perc) * dataset_size): ]\n",
    "y_val = y[int((train_perc + test_perc) * dataset_size): ]"
   ]
  },
  {
   "attachments": {},
   "cell_type": "markdown",
   "metadata": {},
   "source": [
    "### Model"
   ]
  },
  {
   "cell_type": "code",
   "execution_count": 121,
   "metadata": {},
   "outputs": [],
   "source": [
    "def create_model(shape):\n",
    "\tinput_tensor = layers.Input(shape=shape)\n",
    "\n",
    "\t#################### Feature extraction ####################\n",
    "\n",
    "\tx = layers.Conv1D(filters=16, kernel_size=5, strides=1, padding=\"same\")(input_tensor)\n",
    "\tx = layers.BatchNormalization()(x)\n",
    "\tx = layers.Activation(\"relu\")(x)\n",
    "\tx = layers.MaxPooling1D(pool_size=3, strides=1)(x)\n",
    "\n",
    "\tx = layers.Conv1D(filters=32, kernel_size=5, strides=1, padding=\"same\")(x)\n",
    "\tx = layers.BatchNormalization()(x)\n",
    "\tx = layers.Activation(\"relu\")(x)\n",
    "\tx = layers.MaxPooling1D(pool_size=3, strides=1)(x)\n",
    "\t\n",
    "\t\n",
    "\tx = layers.Conv1D(filters=64, kernel_size=5, strides=1, padding=\"same\")(x)\n",
    "\tx = layers.BatchNormalization()(x)\n",
    "\tx = layers.Activation(\"relu\")(x)\n",
    "\tx = layers.MaxPooling1D(pool_size=3, strides=1)(x)\n",
    "\n",
    "\t\n",
    "\t#################### Classification ####################\t\n",
    "\n",
    "\tx = layers.Flatten()(x)\n",
    "\toutput_tensor = layers.Dense(num_labels, activation=\"softmax\")(x)\n",
    "\n",
    "\treturn models.Model(inputs=[input_tensor], outputs=[output_tensor])"
   ]
  },
  {
   "cell_type": "code",
   "execution_count": 122,
   "metadata": {},
   "outputs": [
    {
     "name": "stdout",
     "output_type": "stream",
     "text": [
      "Model: \"model_6\"\n",
      "_________________________________________________________________\n",
      " Layer (type)                Output Shape              Param #   \n",
      "=================================================================\n",
      " input_7 (InputLayer)        [(None, 21, 2)]           0         \n",
      "                                                                 \n",
      " conv1d_24 (Conv1D)          (None, 21, 16)            176       \n",
      "                                                                 \n",
      " batch_normalization_24 (Bat  (None, 21, 16)           64        \n",
      " chNormalization)                                                \n",
      "                                                                 \n",
      " activation_24 (Activation)  (None, 21, 16)            0         \n",
      "                                                                 \n",
      " max_pooling1d_24 (MaxPoolin  (None, 19, 16)           0         \n",
      " g1D)                                                            \n",
      "                                                                 \n",
      " conv1d_25 (Conv1D)          (None, 19, 32)            2592      \n",
      "                                                                 \n",
      " batch_normalization_25 (Bat  (None, 19, 32)           128       \n",
      " chNormalization)                                                \n",
      "                                                                 \n",
      " activation_25 (Activation)  (None, 19, 32)            0         \n",
      "                                                                 \n",
      " max_pooling1d_25 (MaxPoolin  (None, 17, 32)           0         \n",
      " g1D)                                                            \n",
      "                                                                 \n",
      " conv1d_26 (Conv1D)          (None, 17, 64)            10304     \n",
      "                                                                 \n",
      " batch_normalization_26 (Bat  (None, 17, 64)           256       \n",
      " chNormalization)                                                \n",
      "                                                                 \n",
      " activation_26 (Activation)  (None, 17, 64)            0         \n",
      "                                                                 \n",
      " max_pooling1d_26 (MaxPoolin  (None, 15, 64)           0         \n",
      " g1D)                                                            \n",
      "                                                                 \n",
      " flatten_1 (Flatten)         (None, 960)               0         \n",
      "                                                                 \n",
      " dense_6 (Dense)             (None, 19)                18259     \n",
      "                                                                 \n",
      "=================================================================\n",
      "Total params: 31,779\n",
      "Trainable params: 31,555\n",
      "Non-trainable params: 224\n",
      "_________________________________________________________________\n"
     ]
    }
   ],
   "source": [
    "model = create_model(shape=x[0].shape)\n",
    "model.summary()"
   ]
  },
  {
   "cell_type": "code",
   "execution_count": null,
   "metadata": {},
   "outputs": [],
   "source": [
    "hist = compile_and_fit(\n",
    "    model,\n",
    "    x_train,\n",
    "    y_train,\n",
    "    validation_data=(x_val, y_val),\n",
    "\tmax_epochs=100,\n",
    "    run_on_gpu=False\n",
    ")\n",
    "\n",
    "save_model(model, \"model_conv1d\")"
   ]
  },
  {
   "cell_type": "code",
   "execution_count": 124,
   "metadata": {},
   "outputs": [
    {
     "data": {
      "image/png": "[encoded data removed]",
      "text/plain": [
       "<Figure size 1200x300 with 2 Axes>"
      ]
     },
     "metadata": {},
     "output_type": "display_data"
    }
   ],
   "source": [
    "plot(hist)"
   ]
  },
  {
   "cell_type": "code",
   "execution_count": 10,
   "metadata": {},
   "outputs": [
    {
     "name": "stderr",
     "output_type": "stream",
     "text": [
      "2023-04-09 14:38:22.899708: I tensorflow/core/grappler/optimizers/custom_graph_optimizer_registry.cc:113] Plugin optimizer for device_type GPU is enabled.\n",
      "2023-04-09 14:38:34.783009: I tensorflow/core/grappler/optimizers/custom_graph_optimizer_registry.cc:113] Plugin optimizer for device_type GPU is enabled.\n"
     ]
    },
    {
     "name": "stdout",
     "output_type": "stream",
     "text": [
      "\u001b[32mLoss: \u001b[39m0.024833479896187782\n",
      "\u001b[32mAccuracy: \u001b[39m99.384%\n",
      "\u001b[36m\n",
      "Precision: \u001b[39m99.387%\n",
      "\u001b[36mRecall: \u001b[39m99.391%\n",
      "\u001b[36mF1-Score: \u001b[39m99.389%\n",
      "\u001b[32m\n",
      "Min: \u001b[39m7.758509e-37\n",
      "\u001b[32mMean: \u001b[39m0.052631583\n",
      "\u001b[32mMax: \u001b[39m1.0\n",
      "\u001b[34m\n",
      "--------------------- Confusion Matrix ---------------------\u001b[39m\n",
      "\u001b[96m\n",
      "True call \u001b[39m(5178)\n",
      "\u001b[33mPredicted: \u001b[39m5156 (call)\u001b[35m ---- \u001b[39m1 (dislike)\u001b[35m ---- \u001b[39m13 (like)\u001b[35m ---- \u001b[39m4 (no_gesture)\u001b[35m ---- \u001b[39m1 (one)\u001b[35m ---- \u001b[39m1 (rock)\u001b[35m ---- \u001b[39m1 (stop)\u001b[35m ---- \u001b[39m1 (two_up_inverted)\n",
      "\u001b[96m\n",
      "True dislike \u001b[39m(5013)\n",
      "\u001b[33mPredicted: \u001b[39m5000 (dislike)\u001b[35m ---- \u001b[39m2 (fist)\u001b[35m ---- \u001b[39m1 (mute)\u001b[35m ---- \u001b[39m6 (no_gesture)\u001b[35m ---- \u001b[39m2 (peace_inverted)\u001b[35m ---- \u001b[39m1 (stop_inverted)\u001b[35m ---- \u001b[39m1 (two_up_inverted)\n",
      "\u001b[96m\n",
      "True fist \u001b[39m(4917)\n",
      "\u001b[33mPredicted: \u001b[39m1 (call)\u001b[35m ---- \u001b[39m2 (dislike)\u001b[35m ---- \u001b[39m4892 (fist)\u001b[35m ---- \u001b[39m1 (four)\u001b[35m ---- \u001b[39m2 (like)\u001b[35m ---- \u001b[39m5 (mute)\u001b[35m ---- \u001b[39m6 (no_gesture)\u001b[35m ---- \u001b[39m6 (one)\u001b[35m ---- \u001b[39m1 (rock)\u001b[35m ---- \u001b[39m1 (stop)\u001b[35m ---- \u001b[39m\n",
      "\u001b[96m\n",
      "True four \u001b[39m(5164)\n",
      "\u001b[33mPredicted: \u001b[39m1 (fist)\u001b[35m ---- \u001b[39m5150 (four)\u001b[35m ---- \u001b[39m1 (mute)\u001b[35m ---- \u001b[39m1 (no_gesture)\u001b[35m ---- \u001b[39m5 (palm)\u001b[35m ---- \u001b[39m1 (peace)\u001b[35m ---- \u001b[39m2 (rock)\u001b[35m ---- \u001b[39m1 (stop_inverted)\u001b[35m ---- \u001b[39m2 (three)\u001b[35m ---- \u001b[39m\n",
      "\u001b[96m\n",
      "True like \u001b[39m(4848)\n",
      "\u001b[33mPredicted: \u001b[39m6 (call)\u001b[35m ---- \u001b[39m1 (dislike)\u001b[35m ---- \u001b[39m4 (fist)\u001b[35m ---- \u001b[39m4821 (like)\u001b[35m ---- \u001b[39m14 (no_gesture)\u001b[35m ---- \u001b[39m1 (peace_inverted)\u001b[35m ---- \u001b[39m1 (three2)\u001b[35m ---- \u001b[39m\n",
      "\u001b[96m\n",
      "True mute \u001b[39m(5202)\n",
      "\u001b[33mPredicted: \u001b[39m4 (fist)\u001b[35m ---- \u001b[39m1 (like)\u001b[35m ---- \u001b[39m5168 (mute)\u001b[35m ---- \u001b[39m3 (no_gesture)\u001b[35m ---- \u001b[39m21 (one)\u001b[35m ---- \u001b[39m1 (rock)\u001b[35m ---- \u001b[39m1 (stop)\u001b[35m ---- \u001b[39m1 (three2)\u001b[35m ---- \u001b[39m2 (two_up_inverted)\n",
      "\u001b[96m\n",
      "True no_gesture \u001b[39m(8649)\n",
      "\u001b[33mPredicted: \u001b[39m2 (call)\u001b[35m ---- \u001b[39m4 (dislike)\u001b[35m ---- \u001b[39m2 (fist)\u001b[35m ---- \u001b[39m4 (four)\u001b[35m ---- \u001b[39m10 (like)\u001b[35m ---- \u001b[39m5 (mute)\u001b[35m ---- \u001b[39m8576 (no_gesture)\u001b[35m ---- \u001b[39m2 (ok)\u001b[35m ---- \u001b[39m3 (one)\u001b[35m ---- \u001b[39m4 (palm)\u001b[35m ---- \u001b[39m1 (peace)\u001b[35m ---- \u001b[39m10 (peace_inverted)\u001b[35m ---- \u001b[39m1 (rock)\u001b[35m ---- \u001b[39m4 (stop)\u001b[35m ---- \u001b[39m4 (stop_inverted)\u001b[35m ---- \u001b[39m4 (three)\u001b[35m ---- \u001b[39m3 (three2)\u001b[35m ---- \u001b[39m6 (two_up)\u001b[35m ---- \u001b[39m4 (two_up_inverted)\n",
      "\u001b[96m\n",
      "True ok \u001b[39m(5051)\n",
      "\u001b[33mPredicted: \u001b[39m1 (dislike)\u001b[35m ---- \u001b[39m1 (fist)\u001b[35m ---- \u001b[39m2 (mute)\u001b[35m ---- \u001b[39m1 (no_gesture)\u001b[35m ---- \u001b[39m5042 (ok)\u001b[35m ---- \u001b[39m1 (one)\u001b[35m ---- \u001b[39m3 (palm)\u001b[35m ---- \u001b[39m\n",
      "\u001b[96m\n",
      "True one \u001b[39m(4931)\n",
      "\u001b[33mPredicted: \u001b[39m15 (fist)\u001b[35m ---- \u001b[39m1 (like)\u001b[35m ---- \u001b[39m47 (mute)\u001b[35m ---- \u001b[39m3 (no_gesture)\u001b[35m ---- \u001b[39m4841 (one)\u001b[35m ---- \u001b[39m6 (peace)\u001b[35m ---- \u001b[39m1 (peace_inverted)\u001b[35m ---- \u001b[39m4 (rock)\u001b[35m ---- \u001b[39m1 (stop)\u001b[35m ---- \u001b[39m1 (stop_inverted)\u001b[35m ---- \u001b[39m1 (three)\u001b[35m ---- \u001b[39m9 (two_up)\u001b[35m ---- \u001b[39m1 (two_up_inverted)\n",
      "\u001b[96m\n",
      "True palm \u001b[39m(5106)\n",
      "\u001b[33mPredicted: \u001b[39m2 (dislike)\u001b[35m ---- \u001b[39m2 (four)\u001b[35m ---- \u001b[39m1 (no_gesture)\u001b[35m ---- \u001b[39m5069 (palm)\u001b[35m ---- \u001b[39m32 (stop)\u001b[35m ---- \u001b[39m\n",
      "\u001b[96m\n",
      "True peace \u001b[39m(5044)\n",
      "\u001b[33mPredicted: \u001b[39m3 (no_gesture)\u001b[35m ---- \u001b[39m8 (one)\u001b[35m ---- \u001b[39m5003 (peace)\u001b[35m ---- \u001b[39m4 (peace_inverted)\u001b[35m ---- \u001b[39m1 (rock)\u001b[35m ---- \u001b[39m6 (three)\u001b[35m ---- \u001b[39m6 (three2)\u001b[35m ---- \u001b[39m12 (two_up)\u001b[35m ---- \u001b[39m1 (two_up_inverted)\n",
      "\u001b[96m\n",
      "True peace_inverted \u001b[39m(5014)\n",
      "\u001b[33mPredicted: \u001b[39m1 (fist)\u001b[35m ---- \u001b[39m1 (four)\u001b[35m ---- \u001b[39m1 (mute)\u001b[35m ---- \u001b[39m3 (no_gesture)\u001b[35m ---- \u001b[39m2 (one)\u001b[35m ---- \u001b[39m5 (peace)\u001b[35m ---- \u001b[39m4984 (peace_inverted)\u001b[35m ---- \u001b[39m3 (stop_inverted)\u001b[35m ---- \u001b[39m14 (two_up_inverted)\n",
      "\u001b[96m\n",
      "True rock \u001b[39m(4877)\n",
      "\u001b[33mPredicted: \u001b[39m2 (fist)\u001b[35m ---- \u001b[39m3 (four)\u001b[35m ---- \u001b[39m2 (mute)\u001b[35m ---- \u001b[39m2 (no_gesture)\u001b[35m ---- \u001b[39m11 (one)\u001b[35m ---- \u001b[39m3 (peace)\u001b[35m ---- \u001b[39m4852 (rock)\u001b[35m ---- \u001b[39m1 (three)\u001b[35m ---- \u001b[39m1 (two_up_inverted)\n",
      "\u001b[96m\n",
      "True stop \u001b[39m(5039)\n",
      "\u001b[33mPredicted: \u001b[39m1 (fist)\u001b[35m ---- \u001b[39m1 (four)\u001b[35m ---- \u001b[39m20 (palm)\u001b[35m ---- \u001b[39m5010 (stop)\u001b[35m ---- \u001b[39m7 (stop_inverted)\u001b[35m ---- \u001b[39m\n",
      "\u001b[96m\n",
      "True stop_inverted \u001b[39m(5045)\n",
      "\u001b[33mPredicted: \u001b[39m1 (fist)\u001b[35m ---- \u001b[39m2 (mute)\u001b[35m ---- \u001b[39m1 (no_gesture)\u001b[35m ---- \u001b[39m2 (peace_inverted)\u001b[35m ---- \u001b[39m18 (stop)\u001b[35m ---- \u001b[39m5018 (stop_inverted)\u001b[35m ---- \u001b[39m3 (two_up_inverted)\n",
      "\u001b[96m\n",
      "True three \u001b[39m(5052)\n",
      "\u001b[33mPredicted: \u001b[39m9 (four)\u001b[35m ---- \u001b[39m1 (mute)\u001b[35m ---- \u001b[39m4 (no_gesture)\u001b[35m ---- \u001b[39m2 (ok)\u001b[35m ---- \u001b[39m2 (palm)\u001b[35m ---- \u001b[39m13 (peace)\u001b[35m ---- \u001b[39m1 (stop)\u001b[35m ---- \u001b[39m1 (stop_inverted)\u001b[35m ---- \u001b[39m5015 (three)\u001b[35m ---- \u001b[39m1 (two_up)\u001b[35m ---- \u001b[39m3 (two_up_inverted)\n",
      "\u001b[96m\n",
      "True three2 \u001b[39m(5099)\n",
      "\u001b[33mPredicted: \u001b[39m2 (mute)\u001b[35m ---- \u001b[39m1 (one)\u001b[35m ---- \u001b[39m1 (palm)\u001b[35m ---- \u001b[39m4 (peace)\u001b[35m ---- \u001b[39m1 (peace_inverted)\u001b[35m ---- \u001b[39m5090 (three2)\u001b[35m ---- \u001b[39m\n",
      "\u001b[96m\n",
      "True two_up \u001b[39m(5383)\n",
      "\u001b[33mPredicted: \u001b[39m2 (fist)\u001b[35m ---- \u001b[39m3 (four)\u001b[35m ---- \u001b[39m2 (no_gesture)\u001b[35m ---- \u001b[39m7 (one)\u001b[35m ---- \u001b[39m4 (peace)\u001b[35m ---- \u001b[39m2 (peace_inverted)\u001b[35m ---- \u001b[39m3 (rock)\u001b[35m ---- \u001b[39m1 (stop)\u001b[35m ---- \u001b[39m1 (stop_inverted)\u001b[35m ---- \u001b[39m3 (three)\u001b[35m ---- \u001b[39m5351 (two_up)\u001b[35m ---- \u001b[39m4 (two_up_inverted)\n",
      "\u001b[96m\n",
      "True two_up_inverted \u001b[39m(5077)\n",
      "\u001b[33mPredicted: \u001b[39m1 (call)\u001b[35m ---- \u001b[39m3 (dislike)\u001b[35m ---- \u001b[39m2 (fist)\u001b[35m ---- \u001b[39m3 (mute)\u001b[35m ---- \u001b[39m4 (no_gesture)\u001b[35m ---- \u001b[39m1 (ok)\u001b[35m ---- \u001b[39m1 (one)\u001b[35m ---- \u001b[39m1 (peace)\u001b[35m ---- \u001b[39m15 (peace_inverted)\u001b[35m ---- \u001b[39m5 (stop_inverted)\u001b[35m ---- \u001b[39m4 (two_up)\u001b[35m ---- \u001b[39m5037 (two_up_inverted)\n",
      "\u001b[34m\n",
      "--------------------- True vs Predicted labels ---------------------\n",
      "\u001b[39m\n",
      "\u001b[36mcall: \u001b[39m5178 (5.19%)\u001b[35m ---- \u001b[39m5166 (5.18%)\n",
      "\u001b[36mdislike: \u001b[39m5013 (5.03%)\u001b[35m ---- \u001b[39m5014 (5.03%)\n",
      "\u001b[36mfist: \u001b[39m4917 (4.93%)\u001b[35m ---- \u001b[39m4930 (4.95%)\n",
      "\u001b[36mfour: \u001b[39m5164 (5.18%)\u001b[35m ---- \u001b[39m5174 (5.19%)\n",
      "\u001b[36mlike: \u001b[39m4848 (4.86%)\u001b[35m ---- \u001b[39m4848 (4.86%)\n",
      "\u001b[36mmute: \u001b[39m5202 (5.22%)\u001b[35m ---- \u001b[39m5240 (5.26%)\n",
      "\u001b[36mno_gesture: \u001b[39m8649 (8.68%)\u001b[35m ---- \u001b[39m8634 (8.66%)\n",
      "\u001b[36mok: \u001b[39m5051 (5.07%)\u001b[35m ---- \u001b[39m5047 (5.06%)\n",
      "\u001b[36mone: \u001b[39m4931 (4.95%)\u001b[35m ---- \u001b[39m4903 (4.92%)\n",
      "\u001b[36mpalm: \u001b[39m5106 (5.12%)\u001b[35m ---- \u001b[39m5104 (5.12%)\n",
      "\u001b[36mpeace: \u001b[39m5044 (5.06%)\u001b[35m ---- \u001b[39m5041 (5.06%)\n",
      "\u001b[36mpeace_inverted: \u001b[39m5014 (5.03%)\u001b[35m ---- \u001b[39m5022 (5.04%)\n",
      "\u001b[36mrock: \u001b[39m4877 (4.89%)\u001b[35m ---- \u001b[39m4866 (4.88%)\n",
      "\u001b[36mstop: \u001b[39m5039 (5.05%)\u001b[35m ---- \u001b[39m5070 (5.09%)\n",
      "\u001b[36mstop_inverted: \u001b[39m5045 (5.06%)\u001b[35m ---- \u001b[39m5042 (5.06%)\n",
      "\u001b[36mthree: \u001b[39m5052 (5.07%)\u001b[35m ---- \u001b[39m5032 (5.05%)\n",
      "\u001b[36mthree2: \u001b[39m5099 (5.11%)\u001b[35m ---- \u001b[39m5101 (5.12%)\n",
      "\u001b[36mtwo_up: \u001b[39m5383 (5.4%)\u001b[35m ---- \u001b[39m5383 (5.4%)\n",
      "\u001b[36mtwo_up_inverted: \u001b[39m5077 (5.09%)\u001b[35m ---- \u001b[39m5072 (5.09%)\n"
     ]
    }
   ],
   "source": [
    "predictions_summary(\"model_conv1d\", x_test, y_test, labels, run_on_gpu=False)"
   ]
  },
  {
   "attachments": {},
   "cell_type": "markdown",
   "metadata": {},
   "source": [
    "### Full convolutional network"
   ]
  },
  {
   "cell_type": "code",
   "execution_count": 11,
   "metadata": {},
   "outputs": [],
   "source": [
    "def create_model_full_conv(shape, output_dim: int):\n",
    "\tinput_tensor = layers.Input(shape=shape)\n",
    "\n",
    "\t#################### Feature extraction ####################\n",
    "\n",
    "\tx = layers.Conv1D(filters=16, kernel_size=5, strides=1, padding=\"same\")(input_tensor)\n",
    "\tx = layers.BatchNormalization()(x)\n",
    "\tx = layers.Activation(\"relu\")(x)\n",
    "\tx = layers.MaxPooling1D(pool_size=3, strides=1)(x)\n",
    "\n",
    "\tx = layers.Conv1D(filters=32, kernel_size=5, strides=1, padding=\"same\")(x)\n",
    "\tx = layers.BatchNormalization()(x)\n",
    "\tx = layers.Activation(\"relu\")(x)\n",
    "\tx = layers.MaxPooling1D(pool_size=3, strides=1)(x)\n",
    "\t\n",
    "\t\n",
    "\tx = layers.Conv1D(filters=64, kernel_size=5, strides=1, padding=\"same\")(x)\n",
    "\tx = layers.BatchNormalization()(x)\n",
    "\tx = layers.Activation(\"relu\")(x)\n",
    "\tx = layers.MaxPooling1D(pool_size=3, strides=1)(x)\n",
    "\n",
    "\t\n",
    "\t#################### Classification ####################\t\n",
    "\n",
    "\toutput_tensor = layers.Conv1D(output_dim, kernel_size=x.shape[1], activation=\"softmax\")(x)\n",
    "\toutput_tensor = layers.Reshape(target_shape=(output_dim,))(output_tensor)\n",
    "\n",
    "\treturn models.Model(inputs=[input_tensor], outputs=[output_tensor])"
   ]
  },
  {
   "cell_type": "code",
   "execution_count": 16,
   "metadata": {},
   "outputs": [
    {
     "name": "stdout",
     "output_type": "stream",
     "text": [
      "Model: \"model_3\"\n",
      "_________________________________________________________________\n",
      " Layer (type)                Output Shape              Param #   \n",
      "=================================================================\n",
      " input_4 (InputLayer)        [(None, 21, 2)]           0         \n",
      "                                                                 \n",
      " conv1d_12 (Conv1D)          (None, 21, 16)            176       \n",
      "                                                                 \n",
      " batch_normalization_9 (Batc  (None, 21, 16)           64        \n",
      " hNormalization)                                                 \n",
      "                                                                 \n",
      " activation_9 (Activation)   (None, 21, 16)            0         \n",
      "                                                                 \n",
      " max_pooling1d_9 (MaxPooling  (None, 19, 16)           0         \n",
      " 1D)                                                             \n",
      "                                                                 \n",
      " conv1d_13 (Conv1D)          (None, 19, 32)            2592      \n",
      "                                                                 \n",
      " batch_normalization_10 (Bat  (None, 19, 32)           128       \n",
      " chNormalization)                                                \n",
      "                                                                 \n",
      " activation_10 (Activation)  (None, 19, 32)            0         \n",
      "                                                                 \n",
      " max_pooling1d_10 (MaxPoolin  (None, 17, 32)           0         \n",
      " g1D)                                                            \n",
      "                                                                 \n",
      " conv1d_14 (Conv1D)          (None, 17, 64)            10304     \n",
      "                                                                 \n",
      " batch_normalization_11 (Bat  (None, 17, 64)           256       \n",
      " chNormalization)                                                \n",
      "                                                                 \n",
      " activation_11 (Activation)  (None, 17, 64)            0         \n",
      "                                                                 \n",
      " max_pooling1d_11 (MaxPoolin  (None, 15, 64)           0         \n",
      " g1D)                                                            \n",
      "                                                                 \n",
      " conv1d_15 (Conv1D)          (None, 1, 19)             18259     \n",
      "                                                                 \n",
      " reshape_2 (Reshape)         (None, 19)                0         \n",
      "                                                                 \n",
      "=================================================================\n",
      "Total params: 31,779\n",
      "Trainable params: 31,555\n",
      "Non-trainable params: 224\n",
      "_________________________________________________________________\n"
     ]
    }
   ],
   "source": [
    "model_full_conv = create_model_full_conv(shape=x[0].shape, output_dim=num_labels)\n",
    "model_full_conv.summary()"
   ]
  },
  {
   "cell_type": "code",
   "execution_count": null,
   "metadata": {},
   "outputs": [],
   "source": [
    "hist_full_conv = compile_and_fit(\n",
    "    model_full_conv,\n",
    "    x_train,\n",
    "    y_train,\n",
    "    validation_data=(x_val, y_val),\n",
    "\tmax_epochs=100,\n",
    "    run_on_gpu=False\n",
    ")\n",
    "\n",
    "save_model(model_full_conv, \"model_full_conv1d\")"
   ]
  },
  {
   "cell_type": "code",
   "execution_count": 18,
   "metadata": {},
   "outputs": [
    {
     "data": {
      "image/png": "[encoded data removed]",
      "text/plain": [
       "<Figure size 1200x300 with 2 Axes>"
      ]
     },
     "metadata": {},
     "output_type": "display_data"
    }
   ],
   "source": [
    "plot(hist_full_conv)"
   ]
  },
  {
   "cell_type": "code",
   "execution_count": 19,
   "metadata": {},
   "outputs": [
    {
     "name": "stderr",
     "output_type": "stream",
     "text": [
      "2023-04-10 00:40:53.742806: I tensorflow/core/grappler/optimizers/custom_graph_optimizer_registry.cc:113] Plugin optimizer for device_type GPU is enabled.\n",
      "2023-04-10 00:41:22.636459: I tensorflow/core/grappler/optimizers/custom_graph_optimizer_registry.cc:113] Plugin optimizer for device_type GPU is enabled.\n"
     ]
    },
    {
     "name": "stdout",
     "output_type": "stream",
     "text": [
      "\u001b[32mLoss: \u001b[39m0.0367853119969368\n",
      "\u001b[32mAccuracy: \u001b[39m99.179%\n",
      "\u001b[36m\n",
      "Precision: \u001b[39m99.177%\n",
      "\u001b[36mRecall: \u001b[39m99.187%\n",
      "\u001b[36mF1-Score: \u001b[39m99.182%\n",
      "\u001b[32m\n",
      "Min: \u001b[39m0.0\n",
      "\u001b[32mMean: \u001b[39m0.05263158\n",
      "\u001b[32mMax: \u001b[39m1.0\n",
      "\u001b[34m\n",
      "--------------------- Confusion Matrix ---------------------\u001b[39m\n",
      "\u001b[96m\n",
      "True call \u001b[39m(4947)\n",
      "\u001b[33mPredicted: \u001b[39m4908 (call)\u001b[35m ---- \u001b[39m28 (like)\u001b[35m ---- \u001b[39m2 (mute)\u001b[35m ---- \u001b[39m4 (no_gesture)\u001b[35m ---- \u001b[39m1 (rock)\u001b[35m ---- \u001b[39m1 (stop)\u001b[35m ---- \u001b[39m3 (stop_inverted)\u001b[35m ---- \u001b[39m\n",
      "\u001b[96m\n",
      "True dislike \u001b[39m(5015)\n",
      "\u001b[33mPredicted: \u001b[39m1 (call)\u001b[35m ---- \u001b[39m4981 (dislike)\u001b[35m ---- \u001b[39m2 (fist)\u001b[35m ---- \u001b[39m5 (like)\u001b[35m ---- \u001b[39m4 (mute)\u001b[35m ---- \u001b[39m13 (no_gesture)\u001b[35m ---- \u001b[39m1 (peace_inverted)\u001b[35m ---- \u001b[39m1 (stop)\u001b[35m ---- \u001b[39m1 (stop_inverted)\u001b[35m ---- \u001b[39m1 (three2)\u001b[35m ---- \u001b[39m5 (two_up_inverted)\n",
      "\u001b[96m\n",
      "True fist \u001b[39m(4935)\n",
      "\u001b[33mPredicted: \u001b[39m2 (dislike)\u001b[35m ---- \u001b[39m4915 (fist)\u001b[35m ---- \u001b[39m1 (four)\u001b[35m ---- \u001b[39m2 (like)\u001b[35m ---- \u001b[39m2 (mute)\u001b[35m ---- \u001b[39m3 (no_gesture)\u001b[35m ---- \u001b[39m7 (one)\u001b[35m ---- \u001b[39m1 (stop)\u001b[35m ---- \u001b[39m1 (stop_inverted)\u001b[35m ---- \u001b[39m1 (two_up)\u001b[35m ---- \u001b[39m\n",
      "\u001b[96m\n",
      "True four \u001b[39m(5247)\n",
      "\u001b[33mPredicted: \u001b[39m1 (fist)\u001b[35m ---- \u001b[39m5223 (four)\u001b[35m ---- \u001b[39m2 (no_gesture)\u001b[35m ---- \u001b[39m1 (ok)\u001b[35m ---- \u001b[39m6 (palm)\u001b[35m ---- \u001b[39m1 (peace_inverted)\u001b[35m ---- \u001b[39m2 (rock)\u001b[35m ---- \u001b[39m4 (stop)\u001b[35m ---- \u001b[39m2 (stop_inverted)\u001b[35m ---- \u001b[39m5 (three)\u001b[35m ---- \u001b[39m\n",
      "\u001b[96m\n",
      "True like \u001b[39m(4896)\n",
      "\u001b[33mPredicted: \u001b[39m7 (call)\u001b[35m ---- \u001b[39m4 (dislike)\u001b[35m ---- \u001b[39m6 (fist)\u001b[35m ---- \u001b[39m4864 (like)\u001b[35m ---- \u001b[39m1 (mute)\u001b[35m ---- \u001b[39m8 (no_gesture)\u001b[35m ---- \u001b[39m1 (peace_inverted)\u001b[35m ---- \u001b[39m1 (stop)\u001b[35m ---- \u001b[39m1 (three)\u001b[35m ---- \u001b[39m3 (two_up_inverted)\n",
      "\u001b[96m\n",
      "True mute \u001b[39m(5214)\n",
      "\u001b[33mPredicted: \u001b[39m3 (call)\u001b[35m ---- \u001b[39m2 (dislike)\u001b[35m ---- \u001b[39m10 (fist)\u001b[35m ---- \u001b[39m1 (like)\u001b[35m ---- \u001b[39m5155 (mute)\u001b[35m ---- \u001b[39m12 (no_gesture)\u001b[35m ---- \u001b[39m19 (one)\u001b[35m ---- \u001b[39m2 (peace)\u001b[35m ---- \u001b[39m2 (peace_inverted)\u001b[35m ---- \u001b[39m2 (rock)\u001b[35m ---- \u001b[39m6 (two_up_inverted)\n",
      "\u001b[96m\n",
      "True no_gesture \u001b[39m(8663)\n",
      "\u001b[33mPredicted: \u001b[39m4 (call)\u001b[35m ---- \u001b[39m11 (dislike)\u001b[35m ---- \u001b[39m3 (fist)\u001b[35m ---- \u001b[39m4 (four)\u001b[35m ---- \u001b[39m12 (like)\u001b[35m ---- \u001b[39m6 (mute)\u001b[35m ---- \u001b[39m8570 (no_gesture)\u001b[35m ---- \u001b[39m1 (ok)\u001b[35m ---- \u001b[39m3 (one)\u001b[35m ---- \u001b[39m2 (palm)\u001b[35m ---- \u001b[39m3 (peace)\u001b[35m ---- \u001b[39m10 (peace_inverted)\u001b[35m ---- \u001b[39m1 (rock)\u001b[35m ---- \u001b[39m5 (stop)\u001b[35m ---- \u001b[39m11 (stop_inverted)\u001b[35m ---- \u001b[39m4 (three)\u001b[35m ---- \u001b[39m2 (three2)\u001b[35m ---- \u001b[39m7 (two_up)\u001b[35m ---- \u001b[39m4 (two_up_inverted)\n",
      "\u001b[96m\n",
      "True ok \u001b[39m(5060)\n",
      "\u001b[33mPredicted: \u001b[39m1 (four)\u001b[35m ---- \u001b[39m1 (mute)\u001b[35m ---- \u001b[39m2 (no_gesture)\u001b[35m ---- \u001b[39m5049 (ok)\u001b[35m ---- \u001b[39m3 (palm)\u001b[35m ---- \u001b[39m1 (stop)\u001b[35m ---- \u001b[39m3 (three)\u001b[35m ---- \u001b[39m\n",
      "\u001b[96m\n",
      "True one \u001b[39m(4990)\n",
      "\u001b[33mPredicted: \u001b[39m1 (dislike)\u001b[35m ---- \u001b[39m29 (fist)\u001b[35m ---- \u001b[39m44 (mute)\u001b[35m ---- \u001b[39m4893 (one)\u001b[35m ---- \u001b[39m3 (peace)\u001b[35m ---- \u001b[39m2 (peace_inverted)\u001b[35m ---- \u001b[39m7 (rock)\u001b[35m ---- \u001b[39m1 (stop)\u001b[35m ---- \u001b[39m1 (stop_inverted)\u001b[35m ---- \u001b[39m5 (two_up)\u001b[35m ---- \u001b[39m4 (two_up_inverted)\n",
      "\u001b[96m\n",
      "True palm \u001b[39m(5064)\n",
      "\u001b[33mPredicted: \u001b[39m3 (four)\u001b[35m ---- \u001b[39m5021 (palm)\u001b[35m ---- \u001b[39m40 (stop)\u001b[35m ---- \u001b[39m\n",
      "\u001b[96m\n",
      "True peace \u001b[39m(4971)\n",
      "\u001b[33mPredicted: \u001b[39m8 (fist)\u001b[35m ---- \u001b[39m2 (no_gesture)\u001b[35m ---- \u001b[39m13 (one)\u001b[35m ---- \u001b[39m4918 (peace)\u001b[35m ---- \u001b[39m4 (peace_inverted)\u001b[35m ---- \u001b[39m10 (three)\u001b[35m ---- \u001b[39m8 (three2)\u001b[35m ---- \u001b[39m7 (two_up)\u001b[35m ---- \u001b[39m1 (two_up_inverted)\n",
      "\u001b[96m\n",
      "True peace_inverted \u001b[39m(5146)\n",
      "\u001b[33mPredicted: \u001b[39m1 (call)\u001b[35m ---- \u001b[39m1 (dislike)\u001b[35m ---- \u001b[39m1 (fist)\u001b[35m ---- \u001b[39m5 (mute)\u001b[35m ---- \u001b[39m2 (no_gesture)\u001b[35m ---- \u001b[39m1 (ok)\u001b[35m ---- \u001b[39m1 (one)\u001b[35m ---- \u001b[39m5 (peace)\u001b[35m ---- \u001b[39m5097 (peace_inverted)\u001b[35m ---- \u001b[39m1 (rock)\u001b[35m ---- \u001b[39m1 (stop)\u001b[35m ---- \u001b[39m4 (stop_inverted)\u001b[35m ---- \u001b[39m4 (three)\u001b[35m ---- \u001b[39m22 (two_up_inverted)\n",
      "\u001b[96m\n",
      "True rock \u001b[39m(5025)\n",
      "\u001b[33mPredicted: \u001b[39m1 (call)\u001b[35m ---- \u001b[39m6 (fist)\u001b[35m ---- \u001b[39m1 (four)\u001b[35m ---- \u001b[39m1 (like)\u001b[35m ---- \u001b[39m1 (mute)\u001b[35m ---- \u001b[39m9 (one)\u001b[35m ---- \u001b[39m2 (peace)\u001b[35m ---- \u001b[39m2 (peace_inverted)\u001b[35m ---- \u001b[39m4996 (rock)\u001b[35m ---- \u001b[39m3 (three)\u001b[35m ---- \u001b[39m3 (two_up)\u001b[35m ---- \u001b[39m\n",
      "\u001b[96m\n",
      "True stop \u001b[39m(5030)\n",
      "\u001b[33mPredicted: \u001b[39m1 (four)\u001b[35m ---- \u001b[39m1 (like)\u001b[35m ---- \u001b[39m1 (no_gesture)\u001b[35m ---- \u001b[39m32 (palm)\u001b[35m ---- \u001b[39m4976 (stop)\u001b[35m ---- \u001b[39m19 (stop_inverted)\u001b[35m ---- \u001b[39m\n",
      "\u001b[96m\n",
      "True stop_inverted \u001b[39m(5106)\n",
      "\u001b[33mPredicted: \u001b[39m1 (dislike)\u001b[35m ---- \u001b[39m1 (four)\u001b[35m ---- \u001b[39m1 (mute)\u001b[35m ---- \u001b[39m6 (no_gesture)\u001b[35m ---- \u001b[39m1 (ok)\u001b[35m ---- \u001b[39m3 (peace_inverted)\u001b[35m ---- \u001b[39m10 (stop)\u001b[35m ---- \u001b[39m5076 (stop_inverted)\u001b[35m ---- \u001b[39m1 (three2)\u001b[35m ---- \u001b[39m6 (two_up_inverted)\n",
      "\u001b[96m\n",
      "True three \u001b[39m(4847)\n",
      "\u001b[33mPredicted: \u001b[39m2 (dislike)\u001b[35m ---- \u001b[39m2 (fist)\u001b[35m ---- \u001b[39m24 (four)\u001b[35m ---- \u001b[39m1 (like)\u001b[35m ---- \u001b[39m1 (mute)\u001b[35m ---- \u001b[39m1 (no_gesture)\u001b[35m ---- \u001b[39m9 (ok)\u001b[35m ---- \u001b[39m1 (one)\u001b[35m ---- \u001b[39m1 (palm)\u001b[35m ---- \u001b[39m11 (peace)\u001b[35m ---- \u001b[39m1 (rock)\u001b[35m ---- \u001b[39m1 (stop)\u001b[35m ---- \u001b[39m4791 (three)\u001b[35m ---- \u001b[39m1 (two_up_inverted)\n",
      "\u001b[96m\n",
      "True three2 \u001b[39m(5045)\n",
      "\u001b[33mPredicted: \u001b[39m1 (like)\u001b[35m ---- \u001b[39m3 (no_gesture)\u001b[35m ---- \u001b[39m3 (one)\u001b[35m ---- \u001b[39m1 (palm)\u001b[35m ---- \u001b[39m3 (peace)\u001b[35m ---- \u001b[39m2 (peace_inverted)\u001b[35m ---- \u001b[39m5032 (three2)\u001b[35m ---- \u001b[39m\n",
      "\u001b[96m\n",
      "True two_up \u001b[39m(5382)\n",
      "\u001b[33mPredicted: \u001b[39m1 (dislike)\u001b[35m ---- \u001b[39m5 (fist)\u001b[35m ---- \u001b[39m1 (four)\u001b[35m ---- \u001b[39m1 (mute)\u001b[35m ---- \u001b[39m8 (one)\u001b[35m ---- \u001b[39m2 (palm)\u001b[35m ---- \u001b[39m8 (peace)\u001b[35m ---- \u001b[39m2 (peace_inverted)\u001b[35m ---- \u001b[39m2 (stop_inverted)\u001b[35m ---- \u001b[39m2 (three)\u001b[35m ---- \u001b[39m5346 (two_up)\u001b[35m ---- \u001b[39m4 (two_up_inverted)\n",
      "\u001b[96m\n",
      "True two_up_inverted \u001b[39m(5106)\n",
      "\u001b[33mPredicted: \u001b[39m1 (call)\u001b[35m ---- \u001b[39m3 (dislike)\u001b[35m ---- \u001b[39m3 (fist)\u001b[35m ---- \u001b[39m2 (mute)\u001b[35m ---- \u001b[39m5 (no_gesture)\u001b[35m ---- \u001b[39m3 (one)\u001b[35m ---- \u001b[39m1 (peace)\u001b[35m ---- \u001b[39m18 (peace_inverted)\u001b[35m ---- \u001b[39m5 (stop_inverted)\u001b[35m ---- \u001b[39m5 (two_up)\u001b[35m ---- \u001b[39m5060 (two_up_inverted)\n",
      "\u001b[34m\n",
      "--------------------- True vs Predicted labels ---------------------\n",
      "\u001b[39m\n",
      "\u001b[36mcall: \u001b[39m4947 (4.96%)\u001b[35m ---- \u001b[39m4926 (4.94%)\n",
      "\u001b[36mdislike: \u001b[39m5015 (5.03%)\u001b[35m ---- \u001b[39m5009 (5.02%)\n",
      "\u001b[36mfist: \u001b[39m4935 (4.95%)\u001b[35m ---- \u001b[39m4991 (5.01%)\n",
      "\u001b[36mfour: \u001b[39m5247 (5.26%)\u001b[35m ---- \u001b[39m5260 (5.28%)\n",
      "\u001b[36mlike: \u001b[39m4896 (4.91%)\u001b[35m ---- \u001b[39m4916 (4.93%)\n",
      "\u001b[36mmute: \u001b[39m5214 (5.23%)\u001b[35m ---- \u001b[39m5226 (5.24%)\n",
      "\u001b[36mno_gesture: \u001b[39m8663 (8.69%)\u001b[35m ---- \u001b[39m8634 (8.66%)\n",
      "\u001b[36mok: \u001b[39m5060 (5.08%)\u001b[35m ---- \u001b[39m5062 (5.08%)\n",
      "\u001b[36mone: \u001b[39m4990 (5.01%)\u001b[35m ---- \u001b[39m4960 (4.98%)\n",
      "\u001b[36mpalm: \u001b[39m5064 (5.08%)\u001b[35m ---- \u001b[39m5068 (5.08%)\n",
      "\u001b[36mpeace: \u001b[39m4971 (4.99%)\u001b[35m ---- \u001b[39m4956 (4.97%)\n",
      "\u001b[36mpeace_inverted: \u001b[39m5146 (5.16%)\u001b[35m ---- \u001b[39m5145 (5.16%)\n",
      "\u001b[36mrock: \u001b[39m5025 (5.04%)\u001b[35m ---- \u001b[39m5011 (5.03%)\n",
      "\u001b[36mstop: \u001b[39m5030 (5.05%)\u001b[35m ---- \u001b[39m5043 (5.06%)\n",
      "\u001b[36mstop_inverted: \u001b[39m5106 (5.12%)\u001b[35m ---- \u001b[39m5125 (5.14%)\n",
      "\u001b[36mthree: \u001b[39m4847 (4.86%)\u001b[35m ---- \u001b[39m4823 (4.84%)\n",
      "\u001b[36mthree2: \u001b[39m5045 (5.06%)\u001b[35m ---- \u001b[39m5044 (5.06%)\n",
      "\u001b[36mtwo_up: \u001b[39m5382 (5.4%)\u001b[35m ---- \u001b[39m5374 (5.39%)\n",
      "\u001b[36mtwo_up_inverted: \u001b[39m5106 (5.12%)\u001b[35m ---- \u001b[39m5116 (5.13%)\n"
     ]
    }
   ],
   "source": [
    "predictions_summary(\"model_full_conv1d\", x_test, y_test, labels, run_on_gpu=False)"
   ]
  },
  {
   "attachments": {},
   "cell_type": "markdown",
   "metadata": {},
   "source": [
    "### Average time to make a prediction"
   ]
  },
  {
   "cell_type": "code",
   "execution_count": 32,
   "metadata": {},
   "outputs": [],
   "source": [
    "import time\n",
    "from random import randint"
   ]
  },
  {
   "cell_type": "code",
   "execution_count": 35,
   "metadata": {},
   "outputs": [
    {
     "name": "stdout",
     "output_type": "stream",
     "text": [
      "Average time: 0.0348 seconds\n"
     ]
    }
   ],
   "source": [
    "num_iters = 2000\n",
    "count = 0\n",
    "\n",
    "for i in range(num_iters):\n",
    "\tindex = randint(0, x_test.shape[0] - 1)\n",
    "\n",
    "\tstart = time.time()\n",
    "\n",
    "\twith tf.device('CPU'):\n",
    "\t\tmodel_full_conv.predict(x_test[index].reshape(1, num_landmarks, 2), verbose=False)\n",
    "\n",
    "\tcount += time.time() - start\n",
    "\n",
    "print(f\"Average time: {round(count / num_iters, 4)} seconds\")"
   ]
  }
 ],
 "metadata": {
  "kernelspec": {
   "display_name": "venv_tensorflow",
   "language": "python",
   "name": "python3"
  },
  "language_info": {
   "codemirror_mode": {
    "name": "ipython",
    "version": 3
   },
   "file_extension": ".py",
   "mimetype": "text/x-python",
   "name": "python",
   "nbconvert_exporter": "python",
   "pygments_lexer": "ipython3",
   "version": "3.10.9"
  },
  "orig_nbformat": 4
 },
 "nbformat": 4,
 "nbformat_minor": 2
}
